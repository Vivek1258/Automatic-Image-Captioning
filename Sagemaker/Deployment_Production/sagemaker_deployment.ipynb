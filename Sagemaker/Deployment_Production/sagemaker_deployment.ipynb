{
 "cells": [
  {
   "cell_type": "markdown",
   "id": "elder-creativity",
   "metadata": {},
   "source": [
    "# Model Deployment "
   ]
  },
  {
   "cell_type": "markdown",
   "id": "urban-margin",
   "metadata": {},
   "source": [
    "##  Setting up the notebook"
   ]
  },
  {
   "cell_type": "code",
   "execution_count": 35,
   "id": "sealed-search",
   "metadata": {},
   "outputs": [],
   "source": [
    "# importing the necossery liberay \n",
    "\n",
    "import sagemaker\n",
    "from sagemaker import get_execution_role\n",
    "\n",
    "\n",
    "import os\n",
    "import boto3\n",
    "import json\n",
    "import numpy as np\n",
    "import tensorflow as tf\n",
    "\n",
    "from pickle import load"
   ]
  },
  {
   "cell_type": "code",
   "execution_count": 36,
   "id": "signed-auckland",
   "metadata": {},
   "outputs": [],
   "source": [
    "# This is an object that represents the SageMaker session that we are currently operating in. This\n",
    "# object contains some useful information that we will need to access later such as our region.\n",
    "sm_session = sagemaker.Session()\n",
    "\n",
    "# This is an object that represents the IAM role that we are currently assigned. When we construct\n",
    "# and launch the training job later we will need to tell it what IAM role it should have. Since our\n",
    "# use case is relatively simple we will simply assign the training job the role we currently have.\n",
    "role = get_execution_role()"
   ]
  },
  {
   "cell_type": "markdown",
   "id": "corporate-massage",
   "metadata": {},
   "source": [
    "## Deploy the trained model using \n",
    "\n",
    "\n",
    "### reference documentataion & useful links  :\n",
    "\n",
    "https://docs.aws.amazon.com/sagemaker/latest/dg/neo-deployment-hosting-services-prerequisites.html\n",
    "    \n",
    "https://sagemaker.readthedocs.io/en/stable/frameworks/tensorflow/deploying_tensorflow_serving.html \n",
    "    \n",
    "https://sagemaker.readthedocs.io/en/stable/frameworks/tensorflow/deploying_tensorflow_serving.html \n",
    "\n",
    "https://github.com/aws/sagemaker-python-sdk/blob/6acde94c286087d2d1d991bef28a63a47f53810a/src/sagemaker/predictor.py\n"
   ]
  },
  {
   "cell_type": "code",
   "execution_count": 37,
   "id": "comfortable-leone",
   "metadata": {},
   "outputs": [],
   "source": [
    "\n",
    "s3_model_location = 's3://sagemaker-us-east-1-478270364551/tensorflow-training-2021-02-28-13-12-34-041/output/model.tar.gz'"
   ]
  },
  {
   "cell_type": "code",
   "execution_count": 38,
   "id": "breeding-emerald",
   "metadata": {},
   "outputs": [],
   "source": [
    "\n",
    "from sagemaker.tensorflow import TensorFlowModel\n",
    "\n",
    " \n",
    "model = TensorFlowModel(\n",
    "                         model_data= s3_model_location ,\n",
    "                         role = role,\n",
    "                         framework_version='2.1.0',\n",
    "                         entry_point='inference.py',\n",
    "                         source_dir='server',\n",
    "                         sagemaker_session= sm_session,\n",
    "                        )\n"
   ]
  },
  {
   "cell_type": "code",
   "execution_count": 39,
   "id": "universal-sessions",
   "metadata": {},
   "outputs": [
    {
     "name": "stderr",
     "output_type": "stream",
     "text": [
      "update_endpoint is a no-op in sagemaker>=2.\n",
      "See: https://sagemaker.readthedocs.io/en/stable/v2.html for details.\n"
     ]
    },
    {
     "name": "stdout",
     "output_type": "stream",
     "text": [
      "-----------------!"
     ]
    }
   ],
   "source": [
    "predictor = model.deploy(initial_instance_count=1, instance_type='ml.m4.xlarge')"
   ]
  },
  {
   "cell_type": "code",
   "execution_count": 40,
   "id": "nuclear-committee",
   "metadata": {},
   "outputs": [
    {
     "name": "stderr",
     "output_type": "stream",
     "text": [
      "The endpoint attribute has been renamed in sagemaker>=2.\n",
      "See: https://sagemaker.readthedocs.io/en/stable/v2.html for details.\n"
     ]
    },
    {
     "data": {
      "text/plain": [
       "'tensorflow-inference-2021-03-01-16-42-22-041'"
      ]
     },
     "execution_count": 40,
     "metadata": {},
     "output_type": "execute_result"
    }
   ],
   "source": [
    "\n",
    "predictor.endpoint"
   ]
  },
  {
   "cell_type": "markdown",
   "id": "nonprofit-individual",
   "metadata": {},
   "source": [
    "## Test the working "
   ]
  },
  {
   "cell_type": "code",
   "execution_count": 41,
   "id": "speaking-custody",
   "metadata": {},
   "outputs": [],
   "source": [
    "## setup to invoke endpoint\n",
    "sm_runtime_client = boto3.client('sagemaker-runtime')"
   ]
  },
  {
   "cell_type": "code",
   "execution_count": 42,
   "id": "unlimited-blowing",
   "metadata": {},
   "outputs": [],
   "source": [
    "\n",
    "test_features = load(open('/home/ec2-user/SageMaker/Data Preprocessing/Dataset/test_features' ,'rb'))\n",
    "\n",
    "sample_feature = test_features[list(test_features.keys())[0]][0]"
   ]
  },
  {
   "cell_type": "code",
   "execution_count": 43,
   "id": "southeast-burke",
   "metadata": {},
   "outputs": [
    {
     "data": {
      "text/plain": [
       "(1000,)"
      ]
     },
     "execution_count": 43,
     "metadata": {},
     "output_type": "execute_result"
    }
   ],
   "source": [
    "sample_feature.shape"
   ]
  },
  {
   "cell_type": "code",
   "execution_count": 44,
   "id": "derived-wisdom",
   "metadata": {},
   "outputs": [],
   "source": [
    "image_list = sample_feature.tolist()\n",
    "image_json = json.dumps(image_list)"
   ]
  },
  {
   "cell_type": "code",
   "execution_count": 45,
   "id": "unlike-shakespeare",
   "metadata": {},
   "outputs": [
    {
     "name": "stderr",
     "output_type": "stream",
     "text": [
      "The endpoint attribute has been renamed in sagemaker>=2.\n",
      "See: https://sagemaker.readthedocs.io/en/stable/v2.html for details.\n"
     ]
    }
   ],
   "source": [
    "## invoke endpoint for inference\n",
    "response = sm_runtime_client.invoke_endpoint(\n",
    "                                            EndpointName=predictor.endpoint,\n",
    "                                            Body=image_json,\n",
    "                                            ContentType=\"application/json\",\n",
    "                                            )\n"
   ]
  },
  {
   "cell_type": "code",
   "execution_count": 46,
   "id": "helpful-search",
   "metadata": {},
   "outputs": [
    {
     "data": {
      "text/plain": [
       "'young girl in pink shirt is playing guitar'"
      ]
     },
     "execution_count": 46,
     "metadata": {},
     "output_type": "execute_result"
    }
   ],
   "source": [
    "json.loads(response['Body'].read().decode('utf-8'))"
   ]
  },
  {
   "cell_type": "markdown",
   "id": "demonstrated-breast",
   "metadata": {},
   "source": [
    "## Delete the endpoint (if not needed)"
   ]
  },
  {
   "cell_type": "code",
   "execution_count": 34,
   "id": "nearby-hospital",
   "metadata": {},
   "outputs": [],
   "source": [
    "predictor.delete_endpoint()"
   ]
  },
  {
   "cell_type": "code",
   "execution_count": null,
   "id": "italic-species",
   "metadata": {},
   "outputs": [],
   "source": []
  }
 ],
 "metadata": {
  "kernelspec": {
   "display_name": "conda_tensorflow2_p36",
   "language": "python",
   "name": "conda_tensorflow2_p36"
  },
  "language_info": {
   "codemirror_mode": {
    "name": "ipython",
    "version": 3
   },
   "file_extension": ".py",
   "mimetype": "text/x-python",
   "name": "python",
   "nbconvert_exporter": "python",
   "pygments_lexer": "ipython3",
   "version": "3.6.10"
  }
 },
 "nbformat": 4,
 "nbformat_minor": 5
}
